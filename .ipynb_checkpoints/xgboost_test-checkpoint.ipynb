{
 "cells": [
  {
   "cell_type": "code",
   "execution_count": 12,
   "id": "bf605bc4-67bb-4873-909c-bb13d0c2ed8e",
   "metadata": {},
   "outputs": [
    {
     "name": "stdout",
     "output_type": "stream",
     "text": [
      "--2025-05-31 16:28:49--  https://archive.ics.uci.edu/ml/machine-learning-databases/dermatology/dermatology.data\n",
      "Resolving archive.ics.uci.edu (archive.ics.uci.edu)... 128.195.10.252\n",
      "Connecting to archive.ics.uci.edu (archive.ics.uci.edu)|128.195.10.252|:443... connected.\n",
      "HTTP request sent, awaiting response... 200 OK\n",
      "Length: unspecified\n",
      "Saving to: ‘dermatology.data’\n",
      "\n",
      "dermatology.data        [ <=>                ]  25.36K  --.-KB/s    in 0.1s    \n",
      "\n",
      "2025-05-31 16:28:50 (246 KB/s) - ‘dermatology.data’ saved [25964]\n",
      "\n"
     ]
    }
   ],
   "source": [
    " !wget https://archive.ics.uci.edu/ml/machine-learning-databases/dermatology/dermatology.data"
   ]
  },
  {
   "cell_type": "code",
   "execution_count": 6,
   "id": "3bd7cd8f-cf16-4c95-81c5-06cfddf8cc6f",
   "metadata": {},
   "outputs": [],
   "source": [
    "import numpy as np\n",
    "import xgboost as xgb\n",
    "from ucimlrepo import fetch_ucirepo \n",
    "\n"
   ]
  },
  {
   "cell_type": "code",
   "execution_count": 10,
   "id": "aed22516-6b64-412c-9d02-2f4482ca07ca",
   "metadata": {},
   "outputs": [],
   "source": [
    "  \n",
    "# fetch dataset \n",
    "dermatology = fetch_ucirepo(id=33) \n",
    "  \n",
    "# data (as pandas dataframes) \n",
    "X = dermatology.data.features \n",
    "y = dermatology.data.targets \n",
    "  \n",
    "# metadata \n",
    "print(dermatology.metadata)\n",
    "  \n",
    "# variable information \n",
    "print(dermatology.variables) "
   ]
  },
  {
   "cell_type": "code",
   "execution_count": 14,
   "id": "e485387d-4959-40c3-8054-1be1b29f3470",
   "metadata": {},
   "outputs": [],
   "source": [
    "# label need to be 0 to num_class -1\n",
    "data = np.loadtxt('./dermatology.data', delimiter=',',\n",
    "        converters={33: lambda x:int(x == '?'), 34: lambda x:int(x) - 1})\n",
    "sz = data.shape\n",
    "\n",
    "train = data[:int(sz[0] * 0.7), :]\n",
    "test = data[int(sz[0] * 0.7):, :]\n",
    "\n",
    "train_X = train[:, :33]\n",
    "train_Y = train[:, 34]\n",
    "\n",
    "test_X = test[:, :33]\n",
    "test_Y = test[:, 34]\n",
    "\n",
    "xg_train = xgb.DMatrix(train_X, label=train_Y)\n",
    "xg_test = xgb.DMatrix(test_X, label=test_Y)"
   ]
  },
  {
   "cell_type": "code",
   "execution_count": 15,
   "id": "3b4e60d5-dcdf-44e5-bfa7-20ec801025f3",
   "metadata": {},
   "outputs": [
    {
     "name": "stdout",
     "output_type": "stream",
     "text": [
      "[0]\ttrain-mlogloss:1.54662\ttest-mlogloss:1.57447\n",
      "[1]\ttrain-mlogloss:1.35498\ttest-mlogloss:1.39797\n",
      "[2]\ttrain-mlogloss:1.19883\ttest-mlogloss:1.25218\n",
      "[3]\ttrain-mlogloss:1.06734\ttest-mlogloss:1.13098\n",
      "[4]\ttrain-mlogloss:0.95564\ttest-mlogloss:1.03268\n"
     ]
    },
    {
     "name": "stderr",
     "output_type": "stream",
     "text": [
      "/opt/conda/lib/python3.12/site-packages/xgboost/core.py:726: FutureWarning: Pass `evals` as keyword args.\n",
      "  warnings.warn(msg, FutureWarning)\n"
     ]
    }
   ],
   "source": [
    "# setup parameters for xgboost\n",
    "param = {}\n",
    "# use softmax multi-class classification\n",
    "param['objective'] = 'multi:softmax'\n",
    "# scale weight of positive examples\n",
    "param['eta'] = 0.1\n",
    "param['max_depth'] = 6\n",
    "param['nthread'] = 4\n",
    "param['num_class'] = 6\n",
    "\n",
    "watchlist = [(xg_train, 'train'), (xg_test, 'test')]\n",
    "num_round = 5\n",
    "bst = xgb.train(param, xg_train, num_round, watchlist)"
   ]
  },
  {
   "cell_type": "code",
   "execution_count": null,
   "id": "5fd60687-07ae-4c0e-816b-b7c65e3bb161",
   "metadata": {},
   "outputs": [],
   "source": [
    "# get prediction\n",
    "pred = bst.predict(xg_test)\n",
    "error_rate = np.sum(pred != test_Y) / test_Y.shape[0]\n",
    "print('Test error using softmax = {}'.format(error_rate))\n",
    "\n",
    "# do the same thing again, but output probabilities\n",
    "param['objective'] = 'multi:softprob'\n",
    "bst = xgb.train(param, xg_train, num_round, watchlist)"
   ]
  },
  {
   "cell_type": "code",
   "execution_count": null,
   "id": "f65df0b6-374b-4073-af6b-9666b903cf76",
   "metadata": {},
   "outputs": [],
   "source": [
    "# Note: this convention has been changed since xgboost-unity\n",
    "# get prediction, this is in 1D array, need reshape to (ndata, nclass)\n",
    "pred_prob = bst.predict(xg_test).reshape(test_Y.shape[0], 6)\n",
    "pred_label = np.argmax(pred_prob, axis=1)\n",
    "error_rate = np.sum(pred_label != test_Y) / test_Y.shape[0]\n",
    "print('Test error using softprob = {}'.format(error_rate))"
   ]
  }
 ],
 "metadata": {
  "kernelspec": {
   "display_name": "Python 3 (ipykernel)",
   "language": "python",
   "name": "python3"
  },
  "language_info": {
   "codemirror_mode": {
    "name": "ipython",
    "version": 3
   },
   "file_extension": ".py",
   "mimetype": "text/x-python",
   "name": "python",
   "nbconvert_exporter": "python",
   "pygments_lexer": "ipython3",
   "version": "3.12.10"
  }
 },
 "nbformat": 4,
 "nbformat_minor": 5
}
